{
 "cells": [
  {
   "cell_type": "markdown",
   "metadata": {
    "id": "view-in-github"
   },
   "source": [
    "[![Open In Colab](https://colab.research.google.com/assets/colab-badge.svg)](https://colab.research.google.com/github/camenduru/SeedVR2-jupyter/blob/main/SeedVR2_jupyter.ipynb)"
   ]
  },
  {
   "cell_type": "code",
   "execution_count": null,
   "metadata": {},
   "outputs": [],
   "source": [
    "%cd /content\n",
    "!git clone https://github.com/comfyanonymous/ComfyUI /content/ComfyUI\n",
    "!git clone https://github.com/numz/ComfyUI-SeedVR2_VideoUpscaler /content/ComfyUI/custom_nodes/ComfyUI-SeedVR2_VideoUpscaler\n",
    "\n",
    "!pip install torchsde rotary-embedding-torch\n",
    "\n",
    "!sed -i '/^[[:space:]]*from[[:space:]]\\+server[[:space:]]\\+import[[:space:]]\\+PromptServer[[:space:]]*$/s/^/#/' /content/ComfyUI/custom_nodes/ComfyUI-SeedVR2_VideoUpscaler/src/interfaces/comfyui_node.py\n",
    "!sed -i '/^[[:space:]]*PromptServer\\.instance\\.send_sync[[:space:]]*(\"progress\"[[:space:]]*,[[:space:]]*progress_data[[:space:]]*,[[:space:]]*None)/s/^/#/' /content/ComfyUI/custom_nodes/ComfyUI-SeedVR2_VideoUpscaler/src/interfaces/comfyui_node.py"
   ]
  },
  {
   "cell_type": "code",
   "execution_count": null,
   "metadata": {},
   "outputs": [],
   "source": [
    "%cd /content/ComfyUI\n",
    "\n",
    "import os, json, requests, random, time\n",
    "from urllib.parse import urlsplit\n",
    "\n",
    "import torch\n",
    "from PIL import Image\n",
    "import numpy as np\n",
    "\n",
    "from nodes import NODE_CLASS_MAPPINGS, load_custom_node\n",
    "\n",
    "load_custom_node(\"/content/ComfyUI/custom_nodes/ComfyUI-SeedVR2_VideoUpscaler\")\n",
    "\n",
    "SeedVR2 = NODE_CLASS_MAPPINGS[\"SeedVR2\"]()\n",
    "SeedVR2BlockSwap = NODE_CLASS_MAPPINGS[\"SeedVR2BlockSwap\"]()\n",
    "LoadImage = NODE_CLASS_MAPPINGS[\"LoadImage\"]()\n",
    "\n",
    "def download_file(url, save_dir, file_name):\n",
    "    os.makedirs(save_dir, exist_ok=True)\n",
    "    file_suffix = os.path.splitext(urlsplit(url).path)[1]\n",
    "    file_name_with_suffix = file_name + file_suffix\n",
    "    file_path = os.path.join(save_dir, file_name_with_suffix)\n",
    "    response = requests.get(url)\n",
    "    response.raise_for_status()\n",
    "    with open(file_path, 'wb') as file:\n",
    "        file.write(response.content)\n",
    "    return file_path\n",
    "\n",
    "@torch.inference_mode()\n",
    "def generate(input):\n",
    "    try:\n",
    "        values = input[\"input\"]\n",
    "\n",
    "        input_image = values['input_image']\n",
    "        input_image = download_file(url=input_image, save_dir='/content/ComfyUI/input', file_name='input_image')\n",
    "        seed = values['seed']\n",
    "        new_resolution = values['new_resolution']\n",
    "        batch_size = values['batch_size']\n",
    "        preserve_vram = values['preserve_vram']\n",
    "\n",
    "        if seed == 0:\n",
    "                random.seed(int(time.time()))\n",
    "                seed = random.randint(0, 2**32 - 1)\n",
    "\n",
    "        input_image = LoadImage.load_image(input_image)[0]\n",
    "\n",
    "        block_swap_config = SeedVR2BlockSwap.create_config(blocks_to_swap=32, use_non_blocking=True, \n",
    "                            offload_io_components=False, cache_model=False, enable_debug=True)[0]\n",
    "\n",
    "        sample = SeedVR2.execute(images=input_image, model=\"seedvr2_ema_3b_fp8_e4m3fn.safetensors\", seed=seed, new_resolution=new_resolution, \n",
    "                    batch_size=batch_size, preserve_vram=preserve_vram, block_swap_config=block_swap_config)[0]\n",
    "\n",
    "        Image.fromarray(np.array(sample*255, dtype=np.uint8)[0]).save(f\"output/flux_kontext_dev_output_image.png\")\n",
    "        \n",
    "        result = Image.fromarray(np.array(sample*255, dtype=np.uint8)[0])\n",
    "        \n",
    "        return {\"status\": \"DONE\", \"result\": result}\n",
    "    except Exception as e:\n",
    "        return {\"status\": \"ERROR\", \"result\": str(e)}"
   ]
  },
  {
   "cell_type": "code",
   "execution_count": null,
   "metadata": {},
   "outputs": [],
   "source": [
    "input = {\n",
    "    \"input\": {\n",
    "        \"input_image\": \"https://d.uguu.se/PNZgwaHi.png\",\n",
    "        \"seed\": 0,\n",
    "        \"new_resolution\": 1024,\n",
    "        \"batch_size\": 1,\n",
    "        \"preserve_vram\": False\n",
    "    }\n",
    "}\n",
    "\n",
    "generate(input)[\"result\"]"
   ]
  }
 ],
 "metadata": {
  "accelerator": "GPU",
  "colab": {
   "gpuType": "T4",
   "provenance": []
  },
  "kernelspec": {
   "display_name": "Python 3",
   "name": "python3"
  },
  "language_info": {
   "name": "python"
  }
 },
 "nbformat": 4,
 "nbformat_minor": 0
}
